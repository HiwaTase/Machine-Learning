{
  "nbformat": 4,
  "nbformat_minor": 0,
  "metadata": {
    "colab": {
      "provenance": [],
      "authorship_tag": "ABX9TyMHYEqTvMGpVcW4odC8w5z8",
      "include_colab_link": true
    },
    "kernelspec": {
      "name": "python3",
      "display_name": "Python 3"
    },
    "language_info": {
      "name": "python"
    }
  },
  "cells": [
    {
      "cell_type": "markdown",
      "metadata": {
        "id": "view-in-github",
        "colab_type": "text"
      },
      "source": [
        "<a href=\"https://colab.research.google.com/github/HiwaTase/Machine-Learning/blob/main/Project2.ipynb\" target=\"_parent\"><img src=\"https://colab.research.google.com/assets/colab-badge.svg\" alt=\"Open In Colab\"/></a>"
      ]
    },
    {
      "cell_type": "markdown",
      "source": [
        "**Step1**"
      ],
      "metadata": {
        "id": "e89mZAMZuqHP"
      }
    },
    {
      "cell_type": "code",
      "execution_count": 17,
      "metadata": {
        "id": "Pl99FIoYtl8l"
      },
      "outputs": [],
      "source": [
        "import pandas as pd\n",
        "\n",
        "url = 'https://raw.githubusercontent.com/HiwaTase/Machine-Learning/main/healthINS_balanced.csv'\n",
        "\n",
        "df = pd.read_csv(url)"
      ]
    },
    {
      "cell_type": "code",
      "source": [
        "import pandas as pd\n",
        "\n",
        "# Drop columns\n",
        "df = df.drop([\"WKSWORK2\", \"classwkr\", \"empstat\", \"vetstat\",\"school\",\"cit2\",\"metro\",\"region\"], axis=1)\n",
        "\n",
        "# Top-code the 'inctot' column\n",
        "df['inctot'] = df['inctot'].apply(lambda x: min(max(x, 0), 500000))\n",
        "\n",
        "print(df.isnull().sum())\n",
        "\n"
      ],
      "metadata": {
        "id": "YUB5-bF9yeFC",
        "outputId": "d1badba3-f2cf-404b-cd35-d63224217ca2",
        "colab": {
          "base_uri": "https://localhost:8080/"
        }
      },
      "execution_count": 18,
      "outputs": [
        {
          "output_type": "stream",
          "name": "stdout",
          "text": [
            "nohealthins    0\n",
            "marst          0\n",
            "race2          0\n",
            "inctot         0\n",
            "uhrswork       0\n",
            "age            0\n",
            "educ_att       0\n",
            "female         0\n",
            "dtype: int64\n"
          ]
        }
      ]
    },
    {
      "cell_type": "code",
      "source": [
        "from sklearn.model_selection import train_test_split\n",
        "\n",
        "X = df.drop('nohealthins', axis=1)\n",
        "y = df['nohealthins']\n",
        "\n",
        "X_train, X_test, y_train, y_test = train_test_split(X, y, test_size=0.2, stratify=y, random_state=42)\n",
        "\n",
        "print(\"Training set target class distribution:\")\n",
        "print(y_train.value_counts())\n",
        "\n",
        "print(\"\\nTesting set target class distribution:\")\n",
        "print(y_test.value_counts())\n"
      ],
      "metadata": {
        "id": "ZeevBaamuVpv",
        "outputId": "732fe01f-3e21-4bb8-eb9a-ef7bfa8381fd",
        "colab": {
          "base_uri": "https://localhost:8080/"
        }
      },
      "execution_count": 19,
      "outputs": [
        {
          "output_type": "stream",
          "name": "stdout",
          "text": [
            "Training set target class distribution:\n",
            "nohealthins\n",
            "1    29704\n",
            "0    26184\n",
            "Name: count, dtype: int64\n",
            "\n",
            "Testing set target class distribution:\n",
            "nohealthins\n",
            "1    7427\n",
            "0    6546\n",
            "Name: count, dtype: int64\n"
          ]
        }
      ]
    },
    {
      "cell_type": "code",
      "source": [
        "df.head()"
      ],
      "metadata": {
        "id": "2wPPh7Oh5GbA",
        "outputId": "23f5d649-17c7-47e5-a2aa-8e11364151d3",
        "colab": {
          "base_uri": "https://localhost:8080/",
          "height": 206
        }
      },
      "execution_count": 23,
      "outputs": [
        {
          "output_type": "execute_result",
          "data": {
            "text/plain": [
              "   nohealthins                    marst   race2  inctot  uhrswork  age  \\\n",
              "0            0  Married, spouse present   white   36300         0   71   \n",
              "1            0                  Widowed   white   12500         0   68   \n",
              "2            0                  Widowed   white   24100        32   44   \n",
              "3            0   Married, spouse absent  latino   10900         0   87   \n",
              "4            0  Married, spouse present   white   24200        16   77   \n",
              "\n",
              "       educ_att  female  \n",
              "0     HS or GED       0  \n",
              "1  Less than HS       1  \n",
              "2  Less than HS       1  \n",
              "3  Less than HS       1  \n",
              "4     HS or GED       0  "
            ],
            "text/html": [
              "\n",
              "  <div id=\"df-d5d51a8a-4582-4604-a7de-cf7343299f6b\" class=\"colab-df-container\">\n",
              "    <div>\n",
              "<style scoped>\n",
              "    .dataframe tbody tr th:only-of-type {\n",
              "        vertical-align: middle;\n",
              "    }\n",
              "\n",
              "    .dataframe tbody tr th {\n",
              "        vertical-align: top;\n",
              "    }\n",
              "\n",
              "    .dataframe thead th {\n",
              "        text-align: right;\n",
              "    }\n",
              "</style>\n",
              "<table border=\"1\" class=\"dataframe\">\n",
              "  <thead>\n",
              "    <tr style=\"text-align: right;\">\n",
              "      <th></th>\n",
              "      <th>nohealthins</th>\n",
              "      <th>marst</th>\n",
              "      <th>race2</th>\n",
              "      <th>inctot</th>\n",
              "      <th>uhrswork</th>\n",
              "      <th>age</th>\n",
              "      <th>educ_att</th>\n",
              "      <th>female</th>\n",
              "    </tr>\n",
              "  </thead>\n",
              "  <tbody>\n",
              "    <tr>\n",
              "      <th>0</th>\n",
              "      <td>0</td>\n",
              "      <td>Married, spouse present</td>\n",
              "      <td>white</td>\n",
              "      <td>36300</td>\n",
              "      <td>0</td>\n",
              "      <td>71</td>\n",
              "      <td>HS or GED</td>\n",
              "      <td>0</td>\n",
              "    </tr>\n",
              "    <tr>\n",
              "      <th>1</th>\n",
              "      <td>0</td>\n",
              "      <td>Widowed</td>\n",
              "      <td>white</td>\n",
              "      <td>12500</td>\n",
              "      <td>0</td>\n",
              "      <td>68</td>\n",
              "      <td>Less than HS</td>\n",
              "      <td>1</td>\n",
              "    </tr>\n",
              "    <tr>\n",
              "      <th>2</th>\n",
              "      <td>0</td>\n",
              "      <td>Widowed</td>\n",
              "      <td>white</td>\n",
              "      <td>24100</td>\n",
              "      <td>32</td>\n",
              "      <td>44</td>\n",
              "      <td>Less than HS</td>\n",
              "      <td>1</td>\n",
              "    </tr>\n",
              "    <tr>\n",
              "      <th>3</th>\n",
              "      <td>0</td>\n",
              "      <td>Married, spouse absent</td>\n",
              "      <td>latino</td>\n",
              "      <td>10900</td>\n",
              "      <td>0</td>\n",
              "      <td>87</td>\n",
              "      <td>Less than HS</td>\n",
              "      <td>1</td>\n",
              "    </tr>\n",
              "    <tr>\n",
              "      <th>4</th>\n",
              "      <td>0</td>\n",
              "      <td>Married, spouse present</td>\n",
              "      <td>white</td>\n",
              "      <td>24200</td>\n",
              "      <td>16</td>\n",
              "      <td>77</td>\n",
              "      <td>HS or GED</td>\n",
              "      <td>0</td>\n",
              "    </tr>\n",
              "  </tbody>\n",
              "</table>\n",
              "</div>\n",
              "    <div class=\"colab-df-buttons\">\n",
              "\n",
              "  <div class=\"colab-df-container\">\n",
              "    <button class=\"colab-df-convert\" onclick=\"convertToInteractive('df-d5d51a8a-4582-4604-a7de-cf7343299f6b')\"\n",
              "            title=\"Convert this dataframe to an interactive table.\"\n",
              "            style=\"display:none;\">\n",
              "\n",
              "  <svg xmlns=\"http://www.w3.org/2000/svg\" height=\"24px\" viewBox=\"0 -960 960 960\">\n",
              "    <path d=\"M120-120v-720h720v720H120Zm60-500h600v-160H180v160Zm220 220h160v-160H400v160Zm0 220h160v-160H400v160ZM180-400h160v-160H180v160Zm440 0h160v-160H620v160ZM180-180h160v-160H180v160Zm440 0h160v-160H620v160Z\"/>\n",
              "  </svg>\n",
              "    </button>\n",
              "\n",
              "  <style>\n",
              "    .colab-df-container {\n",
              "      display:flex;\n",
              "      gap: 12px;\n",
              "    }\n",
              "\n",
              "    .colab-df-convert {\n",
              "      background-color: #E8F0FE;\n",
              "      border: none;\n",
              "      border-radius: 50%;\n",
              "      cursor: pointer;\n",
              "      display: none;\n",
              "      fill: #1967D2;\n",
              "      height: 32px;\n",
              "      padding: 0 0 0 0;\n",
              "      width: 32px;\n",
              "    }\n",
              "\n",
              "    .colab-df-convert:hover {\n",
              "      background-color: #E2EBFA;\n",
              "      box-shadow: 0px 1px 2px rgba(60, 64, 67, 0.3), 0px 1px 3px 1px rgba(60, 64, 67, 0.15);\n",
              "      fill: #174EA6;\n",
              "    }\n",
              "\n",
              "    .colab-df-buttons div {\n",
              "      margin-bottom: 4px;\n",
              "    }\n",
              "\n",
              "    [theme=dark] .colab-df-convert {\n",
              "      background-color: #3B4455;\n",
              "      fill: #D2E3FC;\n",
              "    }\n",
              "\n",
              "    [theme=dark] .colab-df-convert:hover {\n",
              "      background-color: #434B5C;\n",
              "      box-shadow: 0px 1px 3px 1px rgba(0, 0, 0, 0.15);\n",
              "      filter: drop-shadow(0px 1px 2px rgba(0, 0, 0, 0.3));\n",
              "      fill: #FFFFFF;\n",
              "    }\n",
              "  </style>\n",
              "\n",
              "    <script>\n",
              "      const buttonEl =\n",
              "        document.querySelector('#df-d5d51a8a-4582-4604-a7de-cf7343299f6b button.colab-df-convert');\n",
              "      buttonEl.style.display =\n",
              "        google.colab.kernel.accessAllowed ? 'block' : 'none';\n",
              "\n",
              "      async function convertToInteractive(key) {\n",
              "        const element = document.querySelector('#df-d5d51a8a-4582-4604-a7de-cf7343299f6b');\n",
              "        const dataTable =\n",
              "          await google.colab.kernel.invokeFunction('convertToInteractive',\n",
              "                                                    [key], {});\n",
              "        if (!dataTable) return;\n",
              "\n",
              "        const docLinkHtml = 'Like what you see? Visit the ' +\n",
              "          '<a target=\"_blank\" href=https://colab.research.google.com/notebooks/data_table.ipynb>data table notebook</a>'\n",
              "          + ' to learn more about interactive tables.';\n",
              "        element.innerHTML = '';\n",
              "        dataTable['output_type'] = 'display_data';\n",
              "        await google.colab.output.renderOutput(dataTable, element);\n",
              "        const docLink = document.createElement('div');\n",
              "        docLink.innerHTML = docLinkHtml;\n",
              "        element.appendChild(docLink);\n",
              "      }\n",
              "    </script>\n",
              "  </div>\n",
              "\n",
              "\n",
              "<div id=\"df-22b1c0fb-59ea-4059-a6f5-794927bfe594\">\n",
              "  <button class=\"colab-df-quickchart\" onclick=\"quickchart('df-22b1c0fb-59ea-4059-a6f5-794927bfe594')\"\n",
              "            title=\"Suggest charts\"\n",
              "            style=\"display:none;\">\n",
              "\n",
              "<svg xmlns=\"http://www.w3.org/2000/svg\" height=\"24px\"viewBox=\"0 0 24 24\"\n",
              "     width=\"24px\">\n",
              "    <g>\n",
              "        <path d=\"M19 3H5c-1.1 0-2 .9-2 2v14c0 1.1.9 2 2 2h14c1.1 0 2-.9 2-2V5c0-1.1-.9-2-2-2zM9 17H7v-7h2v7zm4 0h-2V7h2v10zm4 0h-2v-4h2v4z\"/>\n",
              "    </g>\n",
              "</svg>\n",
              "  </button>\n",
              "\n",
              "<style>\n",
              "  .colab-df-quickchart {\n",
              "      --bg-color: #E8F0FE;\n",
              "      --fill-color: #1967D2;\n",
              "      --hover-bg-color: #E2EBFA;\n",
              "      --hover-fill-color: #174EA6;\n",
              "      --disabled-fill-color: #AAA;\n",
              "      --disabled-bg-color: #DDD;\n",
              "  }\n",
              "\n",
              "  [theme=dark] .colab-df-quickchart {\n",
              "      --bg-color: #3B4455;\n",
              "      --fill-color: #D2E3FC;\n",
              "      --hover-bg-color: #434B5C;\n",
              "      --hover-fill-color: #FFFFFF;\n",
              "      --disabled-bg-color: #3B4455;\n",
              "      --disabled-fill-color: #666;\n",
              "  }\n",
              "\n",
              "  .colab-df-quickchart {\n",
              "    background-color: var(--bg-color);\n",
              "    border: none;\n",
              "    border-radius: 50%;\n",
              "    cursor: pointer;\n",
              "    display: none;\n",
              "    fill: var(--fill-color);\n",
              "    height: 32px;\n",
              "    padding: 0;\n",
              "    width: 32px;\n",
              "  }\n",
              "\n",
              "  .colab-df-quickchart:hover {\n",
              "    background-color: var(--hover-bg-color);\n",
              "    box-shadow: 0 1px 2px rgba(60, 64, 67, 0.3), 0 1px 3px 1px rgba(60, 64, 67, 0.15);\n",
              "    fill: var(--button-hover-fill-color);\n",
              "  }\n",
              "\n",
              "  .colab-df-quickchart-complete:disabled,\n",
              "  .colab-df-quickchart-complete:disabled:hover {\n",
              "    background-color: var(--disabled-bg-color);\n",
              "    fill: var(--disabled-fill-color);\n",
              "    box-shadow: none;\n",
              "  }\n",
              "\n",
              "  .colab-df-spinner {\n",
              "    border: 2px solid var(--fill-color);\n",
              "    border-color: transparent;\n",
              "    border-bottom-color: var(--fill-color);\n",
              "    animation:\n",
              "      spin 1s steps(1) infinite;\n",
              "  }\n",
              "\n",
              "  @keyframes spin {\n",
              "    0% {\n",
              "      border-color: transparent;\n",
              "      border-bottom-color: var(--fill-color);\n",
              "      border-left-color: var(--fill-color);\n",
              "    }\n",
              "    20% {\n",
              "      border-color: transparent;\n",
              "      border-left-color: var(--fill-color);\n",
              "      border-top-color: var(--fill-color);\n",
              "    }\n",
              "    30% {\n",
              "      border-color: transparent;\n",
              "      border-left-color: var(--fill-color);\n",
              "      border-top-color: var(--fill-color);\n",
              "      border-right-color: var(--fill-color);\n",
              "    }\n",
              "    40% {\n",
              "      border-color: transparent;\n",
              "      border-right-color: var(--fill-color);\n",
              "      border-top-color: var(--fill-color);\n",
              "    }\n",
              "    60% {\n",
              "      border-color: transparent;\n",
              "      border-right-color: var(--fill-color);\n",
              "    }\n",
              "    80% {\n",
              "      border-color: transparent;\n",
              "      border-right-color: var(--fill-color);\n",
              "      border-bottom-color: var(--fill-color);\n",
              "    }\n",
              "    90% {\n",
              "      border-color: transparent;\n",
              "      border-bottom-color: var(--fill-color);\n",
              "    }\n",
              "  }\n",
              "</style>\n",
              "\n",
              "  <script>\n",
              "    async function quickchart(key) {\n",
              "      const quickchartButtonEl =\n",
              "        document.querySelector('#' + key + ' button');\n",
              "      quickchartButtonEl.disabled = true;  // To prevent multiple clicks.\n",
              "      quickchartButtonEl.classList.add('colab-df-spinner');\n",
              "      try {\n",
              "        const charts = await google.colab.kernel.invokeFunction(\n",
              "            'suggestCharts', [key], {});\n",
              "      } catch (error) {\n",
              "        console.error('Error during call to suggestCharts:', error);\n",
              "      }\n",
              "      quickchartButtonEl.classList.remove('colab-df-spinner');\n",
              "      quickchartButtonEl.classList.add('colab-df-quickchart-complete');\n",
              "    }\n",
              "    (() => {\n",
              "      let quickchartButtonEl =\n",
              "        document.querySelector('#df-22b1c0fb-59ea-4059-a6f5-794927bfe594 button');\n",
              "      quickchartButtonEl.style.display =\n",
              "        google.colab.kernel.accessAllowed ? 'block' : 'none';\n",
              "    })();\n",
              "  </script>\n",
              "</div>\n",
              "\n",
              "    </div>\n",
              "  </div>\n"
            ],
            "application/vnd.google.colaboratory.intrinsic+json": {
              "type": "dataframe",
              "variable_name": "df",
              "summary": "{\n  \"name\": \"df\",\n  \"rows\": 69861,\n  \"fields\": [\n    {\n      \"column\": \"nohealthins\",\n      \"properties\": {\n        \"dtype\": \"number\",\n        \"std\": 0,\n        \"min\": 0,\n        \"max\": 1,\n        \"num_unique_values\": 2,\n        \"samples\": [\n          1,\n          0\n        ],\n        \"semantic_type\": \"\",\n        \"description\": \"\"\n      }\n    },\n    {\n      \"column\": \"marst\",\n      \"properties\": {\n        \"dtype\": \"category\",\n        \"num_unique_values\": 6,\n        \"samples\": [\n          \"Married, spouse present\",\n          \"Widowed\"\n        ],\n        \"semantic_type\": \"\",\n        \"description\": \"\"\n      }\n    },\n    {\n      \"column\": \"race2\",\n      \"properties\": {\n        \"dtype\": \"category\",\n        \"num_unique_values\": 6,\n        \"samples\": [\n          \"white\",\n          \"latino\"\n        ],\n        \"semantic_type\": \"\",\n        \"description\": \"\"\n      }\n    },\n    {\n      \"column\": \"inctot\",\n      \"properties\": {\n        \"dtype\": \"number\",\n        \"std\": 39482,\n        \"min\": 0,\n        \"max\": 500000,\n        \"num_unique_values\": 3564,\n        \"samples\": [\n          72200,\n          26000\n        ],\n        \"semantic_type\": \"\",\n        \"description\": \"\"\n      }\n    },\n    {\n      \"column\": \"uhrswork\",\n      \"properties\": {\n        \"dtype\": \"number\",\n        \"std\": 20,\n        \"min\": 0,\n        \"max\": 99,\n        \"num_unique_values\": 95,\n        \"samples\": [\n          99,\n          48\n        ],\n        \"semantic_type\": \"\",\n        \"description\": \"\"\n      }\n    },\n    {\n      \"column\": \"age\",\n      \"properties\": {\n        \"dtype\": \"number\",\n        \"std\": 17,\n        \"min\": 15,\n        \"max\": 95,\n        \"num_unique_values\": 81,\n        \"samples\": [\n          16,\n          71\n        ],\n        \"semantic_type\": \"\",\n        \"description\": \"\"\n      }\n    },\n    {\n      \"column\": \"educ_att\",\n      \"properties\": {\n        \"dtype\": \"category\",\n        \"num_unique_values\": 6,\n        \"samples\": [\n          \"HS or GED\",\n          \"Less than HS\"\n        ],\n        \"semantic_type\": \"\",\n        \"description\": \"\"\n      }\n    },\n    {\n      \"column\": \"female\",\n      \"properties\": {\n        \"dtype\": \"number\",\n        \"std\": 0,\n        \"min\": 0,\n        \"max\": 1,\n        \"num_unique_values\": 2,\n        \"samples\": [\n          1,\n          0\n        ],\n        \"semantic_type\": \"\",\n        \"description\": \"\"\n      }\n    }\n  ]\n}"
            }
          },
          "metadata": {},
          "execution_count": 23
        }
      ]
    },
    {
      "cell_type": "markdown",
      "source": [
        "\n",
        "**Step2**"
      ],
      "metadata": {
        "id": "xWyxhVzq8FIV"
      }
    },
    {
      "cell_type": "code",
      "source": [
        "from sklearn.compose import ColumnTransformer\n",
        "from sklearn.preprocessing import StandardScaler, OneHotEncoder\n",
        "# Print the original features\n",
        "print(\"Original features:\\n\", list(X_train.columns), \"\\n\")\n",
        "\n",
        "# Apply ColumnTransformer\n",
        "ct = ColumnTransformer(\n",
        "    [(\"scaling\", StandardScaler(), ['inctot', 'age', 'uhrswork']),\n",
        "     (\"onehot\", OneHotEncoder(sparse=False), ['marst', 'race2', 'educ_att'])],\n",
        "    remainder='passthrough'\n",
        ")\n",
        "\n"
      ],
      "metadata": {
        "id": "xYSajq9c13IS",
        "outputId": "42bc4be1-5833-4e96-b665-f28fca315756",
        "colab": {
          "base_uri": "https://localhost:8080/"
        }
      },
      "execution_count": 25,
      "outputs": [
        {
          "output_type": "stream",
          "name": "stdout",
          "text": [
            "Original features:\n",
            " ['marst', 'race2', 'inctot', 'uhrswork', 'age', 'educ_att', 'female'] \n",
            "\n"
          ]
        }
      ]
    },
    {
      "cell_type": "code",
      "source": [
        "X_train_transformed = ct.fit_transform(X_train)\n",
        "X_test_transformed = ct.transform(X_test)\n",
        "\n",
        "# Convert the transformed data back to a DataFrame for better visualization\n",
        "feature_names = ct.get_feature_names_out()\n",
        "X_train_transformed_df = pd.DataFrame(X_train_transformed, columns=feature_names)\n",
        "X_test_transformed_df = pd.DataFrame(X_test_transformed, columns=feature_names)\n",
        "\n",
        "# Print the transformed features\n",
        "print(\"Transformed training set features:\\n\", X_train_transformed_df.head())\n",
        "\n",
        "# Print the distribution of target classes in training and testing sets\n",
        "print(\"Training set target class distribution:\")\n",
        "print(y_train.value_counts())\n",
        "\n",
        "print(\"\\nTesting set target class distribution:\")\n",
        "print(y_test.value_counts())"
      ],
      "metadata": {
        "id": "qBX7xej36_b5",
        "outputId": "5a2b0951-cc1c-4add-fd86-3e263dd102ef",
        "colab": {
          "base_uri": "https://localhost:8080/"
        }
      },
      "execution_count": 26,
      "outputs": [
        {
          "output_type": "stream",
          "name": "stdout",
          "text": [
            "Transformed training set features:\n",
            "    scaling__inctot  scaling__age  scaling__uhrswork  onehot__marst_Divorced  \\\n",
            "0        -0.646781     -0.435304          -1.155417                     0.0   \n",
            "1         1.535379      0.866503           1.162346                     0.0   \n",
            "2        -0.646781     -1.567311          -1.155417                     0.0   \n",
            "3        -0.354845      1.998509          -1.155417                     0.0   \n",
            "4        -0.646781     -0.039102          -1.155417                     0.0   \n",
            "\n",
            "   onehot__marst_Married, spouse absent  \\\n",
            "0                                   0.0   \n",
            "1                                   0.0   \n",
            "2                                   0.0   \n",
            "3                                   0.0   \n",
            "4                                   0.0   \n",
            "\n",
            "   onehot__marst_Married, spouse present  onehot__marst_Never married/single  \\\n",
            "0                                    0.0                                 1.0   \n",
            "1                                    1.0                                 0.0   \n",
            "2                                    0.0                                 1.0   \n",
            "3                                    1.0                                 0.0   \n",
            "4                                    1.0                                 0.0   \n",
            "\n",
            "   onehot__marst_Separated  onehot__marst_Widowed  onehot__race2_Other  ...  \\\n",
            "0                      0.0                    0.0                  0.0  ...   \n",
            "1                      0.0                    0.0                  0.0  ...   \n",
            "2                      0.0                    0.0                  0.0  ...   \n",
            "3                      0.0                    0.0                  0.0  ...   \n",
            "4                      0.0                    0.0                  0.0  ...   \n",
            "\n",
            "   onehot__race2_latino  onehot__race2_native american  onehot__race2_white  \\\n",
            "0                   0.0                            0.0                  1.0   \n",
            "1                   0.0                            0.0                  1.0   \n",
            "2                   0.0                            0.0                  1.0   \n",
            "3                   0.0                            0.0                  1.0   \n",
            "4                   1.0                            0.0                  0.0   \n",
            "\n",
            "   onehot__educ_att_Associate's Degree  onehot__educ_att_Bachelor's Degree  \\\n",
            "0                                  0.0                                 0.0   \n",
            "1                                  0.0                                 0.0   \n",
            "2                                  0.0                                 0.0   \n",
            "3                                  0.0                                 0.0   \n",
            "4                                  0.0                                 0.0   \n",
            "\n",
            "   onehot__educ_att_HS or GED  onehot__educ_att_Less than HS  \\\n",
            "0                         1.0                            0.0   \n",
            "1                         0.0                            0.0   \n",
            "2                         0.0                            1.0   \n",
            "3                         1.0                            0.0   \n",
            "4                         0.0                            0.0   \n",
            "\n",
            "   onehot__educ_att_Some college, no degree  onehot__educ_att_more than BA  \\\n",
            "0                                       0.0                            0.0   \n",
            "1                                       0.0                            1.0   \n",
            "2                                       0.0                            0.0   \n",
            "3                                       0.0                            0.0   \n",
            "4                                       1.0                            0.0   \n",
            "\n",
            "   remainder__female  \n",
            "0                0.0  \n",
            "1                0.0  \n",
            "2                1.0  \n",
            "3                1.0  \n",
            "4                1.0  \n",
            "\n",
            "[5 rows x 22 columns]\n",
            "Training set target class distribution:\n",
            "nohealthins\n",
            "1    29704\n",
            "0    26184\n",
            "Name: count, dtype: int64\n",
            "\n",
            "Testing set target class distribution:\n",
            "nohealthins\n",
            "1    7427\n",
            "0    6546\n",
            "Name: count, dtype: int64\n"
          ]
        },
        {
          "output_type": "stream",
          "name": "stderr",
          "text": [
            "/usr/local/lib/python3.10/dist-packages/sklearn/preprocessing/_encoders.py:868: FutureWarning: `sparse` was renamed to `sparse_output` in version 1.2 and will be removed in 1.4. `sparse_output` is ignored unless you leave `sparse` to its default value.\n",
            "  warnings.warn(\n"
          ]
        }
      ]
    },
    {
      "cell_type": "markdown",
      "source": [
        "**Step3**"
      ],
      "metadata": {
        "id": "3diSAXo68MPt"
      }
    },
    {
      "cell_type": "code",
      "source": [
        "import matplotlib.pyplot as plt\n",
        "import seaborn as sns\n",
        "plt.figure(figsize=(10, 6))\n",
        "sns.countplot(x=y_train)\n",
        "plt.title('Distribution of Target Attribute in Training Set')\n",
        "plt.xlabel('No Health Insurance')\n",
        "plt.ylabel('Count')\n",
        "plt.show()"
      ],
      "metadata": {
        "id": "4az30GZx8PN1",
        "outputId": "7aac89db-80ac-4a7f-c8e6-c7c4f87384fc",
        "colab": {
          "base_uri": "https://localhost:8080/",
          "height": 564
        }
      },
      "execution_count": 29,
      "outputs": [
        {
          "output_type": "display_data",
          "data": {
            "text/plain": [
              "<Figure size 1000x600 with 1 Axes>"
            ],
            "image/png": "[encoded data removed]"
          },
          "metadata": {}
        }
      ]
    }
  ]
}