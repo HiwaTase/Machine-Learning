{
  "nbformat": 4,
  "nbformat_minor": 0,
  "metadata": {
    "colab": {
      "provenance": [],
      "authorship_tag": "ABX9TyOIkmdq/cktRu59kNgRS0rP",
      "include_colab_link": true
    },
    "kernelspec": {
      "name": "python3",
      "display_name": "Python 3"
    },
    "language_info": {
      "name": "python"
    }
  },
  "cells": [
    {
      "cell_type": "markdown",
      "metadata": {
        "id": "view-in-github",
        "colab_type": "text"
      },
      "source": [
        "<a href=\"https://colab.research.google.com/github/HiwaTase/Machine-Learning/blob/main/Project3.ipynb\" target=\"_parent\"><img src=\"https://colab.research.google.com/assets/colab-badge.svg\" alt=\"Open In Colab\"/></a>"
      ]
    },
    {
      "cell_type": "markdown",
      "source": [
        "**Step 1**"
      ],
      "metadata": {
        "id": "t71em3m9xLuo"
      }
    },
    {
      "cell_type": "code",
      "source": [
        "import pandas as pd\n",
        "from sklearn.model_selection import train_test_split, cross_val_score, GridSearchCV\n",
        "from sklearn.compose import ColumnTransformer\n",
        "from sklearn.preprocessing import StandardScaler, OneHotEncoder\n",
        "from sklearn.neighbors import KNeighborsClassifier\n",
        "from sklearn.ensemble import RandomForestClassifier\n",
        "from sklearn.metrics import precision_score, recall_score, f1_score, make_scorer, accuracy_score\n",
        "from sklearn.decomposition import PCA\n",
        "from sklearn.pipeline import Pipeline\n",
        "import matplotlib.pyplot as plt\n",
        "import seaborn as sns"
      ],
      "metadata": {
        "id": "nCD5AMm3yxI8"
      },
      "execution_count": 2,
      "outputs": []
    },
    {
      "cell_type": "code",
      "execution_count": 3,
      "metadata": {
        "id": "WDfB0emcw_o7",
        "collapsed": true,
        "colab": {
          "base_uri": "https://localhost:8080/"
        },
        "outputId": "30251b66-2726-4dbe-fd5f-b1413fa3d86b"
      },
      "outputs": [
        {
          "output_type": "stream",
          "name": "stdout",
          "text": [
            "Missing values in each column:\n",
            "nohealthins        0\n",
            "marst              0\n",
            "race2              0\n",
            "WKSWORK2       24857\n",
            "classwkr       16731\n",
            "empstat          944\n",
            "inctot             0\n",
            "uhrswork           0\n",
            "age                0\n",
            "school             0\n",
            "cit2               0\n",
            "educ_att           0\n",
            "female             0\n",
            "metro              0\n",
            "region             0\n",
            "vetstat         1978\n",
            "dtype: int64\n",
            "Missing values after cleaning:\n",
            "nohealthins    0\n",
            "race2          0\n",
            "inctot         0\n",
            "uhrswork       0\n",
            "age            0\n",
            "educ_att       0\n",
            "female         0\n",
            "dtype: int64\n",
            "Training set target class distribution:\n",
            "nohealthins\n",
            "1    29704\n",
            "0    26184\n",
            "Name: count, dtype: int64\n",
            "\n",
            "Testing set target class distribution:\n",
            "nohealthins\n",
            "1    7427\n",
            "0    6546\n",
            "Name: count, dtype: int64\n"
          ]
        }
      ],
      "source": [
        "import pandas as pd\n",
        "from sklearn.model_selection import train_test_split\n",
        "\n",
        "# Load the data\n",
        "url = 'https://raw.githubusercontent.com/HiwaTase/Machine-Learning/main/healthINS_balanced.csv'\n",
        "df = pd.read_csv(url)\n",
        "\n",
        "# Check for missing\n",
        "print(\"Missing values in each column:\")\n",
        "print(df.isnull().sum())\n",
        "\n",
        "# Drop columns with missing values\n",
        "df = df.drop([\"marst\",\"WKSWORK2\", \"classwkr\", \"empstat\", \"vetstat\",\"school\",\"cit2\",\"metro\",\"region\"], axis=1)\n",
        "\n",
        "# Top-code the 'inctot' column\n",
        "df['inctot'] = df['inctot'].apply(lambda x: min(max(x, 0), 500000))\n",
        "\n",
        "# Verify the remaining missing values\n",
        "print(\"Missing values after cleaning:\")\n",
        "print(df.isnull().sum())\n",
        "\n",
        "# Split the data into features and target variable\n",
        "X = df.drop('nohealthins', axis=1)\n",
        "y = df['nohealthins']\n",
        "\n",
        "# Split the data into training and testing sets\n",
        "X_train, X_test, y_train, y_test = train_test_split(X, y, test_size=0.2, stratify=y, random_state=42)\n",
        "\n",
        "# Verify the split is balanced\n",
        "print(\"Training set target class distribution:\")\n",
        "print(y_train.value_counts())\n",
        "print(\"\\nTesting set target class distribution:\")\n",
        "print(y_test.value_counts())"
      ]
    },
    {
      "cell_type": "code",
      "source": [
        "# Assume df is loaded and cleaned as per your previous project description\n",
        "from sklearn.compose import ColumnTransformer\n",
        "from sklearn.preprocessing import StandardScaler, OneHotEncoder\n",
        "from sklearn.model_selection import train_test_split\n",
        "\n",
        "# Define feature categories\n",
        "categorical_features = ['race2', 'educ_att']\n",
        "numerical_features = ['inctot', 'age', 'uhrswork']\n",
        "\n",
        "# Column transformer setup\n",
        "column_transformer = ColumnTransformer(\n",
        "    transformers=[\n",
        "        (\"num\", StandardScaler(), numerical_features),\n",
        "        (\"cat\", OneHotEncoder(), categorical_features)\n",
        "    ],\n",
        "    remainder='passthrough'\n",
        ")\n",
        "\n",
        "# Split the data into training and testing sets\n",
        "X = df.drop('nohealthins', axis=1)\n",
        "y = df['nohealthins']\n",
        "X_train, X_test, y_train, y_test = train_test_split(X, y, test_size=0.2, stratify=y, random_state=42)\n",
        "\n",
        "# Apply transformations\n",
        "X_train_transformed = column_transformer.fit_transform(X_train)\n",
        "X_test_transformed = column_transformer.transform(X_test)\n"
      ],
      "metadata": {
        "id": "_anY990ZxWgg"
      },
      "execution_count": 4,
      "outputs": []
    },
    {
      "cell_type": "markdown",
      "source": [
        "**Step 2**"
      ],
      "metadata": {
        "id": "zMcklhpSxs18"
      }
    },
    {
      "cell_type": "code",
      "source": [
        "from sklearn.ensemble import RandomForestClassifier\n",
        "from sklearn.decomposition import PCA\n",
        "from sklearn.pipeline import Pipeline\n",
        "from sklearn.model_selection import GridSearchCV\n",
        "from sklearn.metrics import accuracy_score\n",
        "import matplotlib.pyplot as plt\n",
        "import numpy as np\n",
        "\n",
        "# Define parameter grids for grid search\n",
        "knn_param_grid = {\n",
        "    'n_neighbors': [3, 5, 7, 9],\n",
        "    'weights': ['uniform', 'distance'],\n",
        "    'metric': ['euclidean', 'manhattan']\n",
        "}\n",
        "\n",
        "rf_param_grid = {\n",
        "    'n_estimators': [50, 100, 200],\n",
        "    'max_features': ['sqrt', 'log2'],\n",
        "    'max_depth': [10, 20, 30, None]\n",
        "}\n",
        "\n",
        "# Perform grid search for Random Forest\n",
        "rf_grid_search = GridSearchCV(RandomForestClassifier(random_state=42), rf_param_grid, cv=5, scoring='f1')\n",
        "rf_grid_search.fit(X_train_transformed, y_train)\n",
        "\n",
        "# Get the best Random Forest model\n",
        "best_rf = rf_grid_search.best_estimator_\n",
        "\n",
        "# Fit PCA to the training data\n",
        "pca = PCA().fit(X_train_transformed)\n",
        "\n",
        "# Calculate the cumulative explained variance\n",
        "cumulative_variance = np.cumsum(pca.explained_variance_ratio_)\n",
        "\n",
        "# Determine the number of components needed to capture 95% variance\n",
        "num_components = np.argmax(cumulative_variance >= 0.95) + 1\n",
        "\n",
        "print(f\"Number of components needed to capture 95% of the variance: {num_components}\")\n",
        "\n",
        "# Plot the cumulative explained variance\n",
        "plt.figure(figsize=(10, 6))\n",
        "plt.plot(cumulative_variance, marker='o')\n",
        "plt.axhline(y=0.95, color='r', linestyle='--')\n",
        "plt.axvline(x=num_components-1, color='r', linestyle='--')\n",
        "plt.title('Cumulative Explained Variance by Principal Components')\n",
        "plt.xlabel('Number of Principal Components')\n",
        "plt.ylabel('Cumulative Explained Variance')\n",
        "plt.grid()\n",
        "plt.show()\n",
        "\n",
        "# Initialize PCA with the number of components that capture 95% variance\n",
        "pca = PCA(n_components=num_components)\n",
        "\n",
        "# Create a pipeline with PCA and the best classifier\n",
        "pipeline = Pipeline(steps=[('pca', pca), ('classifier', best_rf)])\n",
        "\n",
        "# Fit the model\n",
        "pipeline.fit(X_train_transformed, y_train)\n",
        "\n",
        "# Evaluate the model\n",
        "print(\"Explained Variance Ratio:\", pca.explained_variance_ratio_.sum())\n",
        "\n",
        "# Predict and calculate accuracy\n",
        "y_pred = pipeline.predict(X_test_transformed)\n",
        "print(\"Accuracy:\", accuracy_score(y_test, y_pred))\n"
      ],
      "metadata": {
        "colab": {
          "base_uri": "https://localhost:8080/",
          "height": 618
        },
        "id": "rMa3_c3kxsIk",
        "outputId": "5082affc-42bd-4f2b-e236-35110c61d269",
        "collapsed": true
      },
      "execution_count": 5,
      "outputs": [
        {
          "output_type": "stream",
          "name": "stdout",
          "text": [
            "Number of components needed to capture 95% of the variance: 9\n"
          ]
        },
        {
          "output_type": "display_data",
          "data": {
            "text/plain": [
              "<Figure size 1000x600 with 1 Axes>"
            ],
            "image/png": "[encoded data removed]"
          },
          "metadata": {}
        },
        {
          "output_type": "stream",
          "name": "stdout",
          "text": [
            "Explained Variance Ratio: 0.9509492530232708\n",
            "Accuracy: 0.7622557790023617\n"
          ]
        }
      ]
    },
    {
      "cell_type": "code",
      "source": [
        "from sklearn.decomposition import PCA\n",
        "import numpy as np\n",
        "import matplotlib.pyplot as plt\n",
        "\n",
        "# Fit PCA to the training data\n",
        "pca = PCA().fit(X_train_transformed)\n",
        "\n",
        "# Calculate the cumulative explained variance\n",
        "cumulative_variance = np.cumsum(pca.explained_variance_ratio_)\n",
        "\n",
        "# Determine the number of components needed to capture 95% variance\n",
        "num_components = np.argmax(cumulative_variance >= 0.95) + 1\n",
        "\n",
        "print(f\"Number of components needed to capture 95% of the variance: {num_components}\")\n",
        "\n",
        "# Plot the cumulative explained variance\n",
        "plt.figure(figsize=(10, 6))\n",
        "plt.plot(cumulative_variance, marker='o')\n",
        "plt.axhline(y=0.95, color='r', linestyle='--')\n",
        "plt.axvline(x=num_components-1, color='r', linestyle='--')\n",
        "plt.title('Cumulative Explained Variance by Principal Components')\n",
        "plt.xlabel('Number of Principal Components')\n",
        "plt.ylabel('Cumulative Explained Variance')\n",
        "plt.grid()\n",
        "plt.show()\n"
      ],
      "metadata": {
        "colab": {
          "base_uri": "https://localhost:8080/",
          "height": 582
        },
        "id": "uN7TTVzj4e6B",
        "outputId": "f17b2aa2-4bc8-401a-a957-ea0ff43cde5e",
        "collapsed": true
      },
      "execution_count": 6,
      "outputs": [
        {
          "output_type": "stream",
          "name": "stdout",
          "text": [
            "Number of components needed to capture 95% of the variance: 9\n"
          ]
        },
        {
          "output_type": "display_data",
          "data": {
            "text/plain": [
              "<Figure size 1000x600 with 1 Axes>"
            ],
            "image/png": "[encoded data removed]"
          },
          "metadata": {}
        }
      ]
    },
    {
      "cell_type": "markdown",
      "source": [
        "**Step 3**"
      ],
      "metadata": {
        "id": "h-P4eAg4Hk-J"
      }
    },
    {
      "cell_type": "code",
      "source": [
        "# Fit PCA\n",
        "pca = PCA(n_components=0.95)  # Keep enough components to explain 95% of the variance\n",
        "X_pca = pca.fit_transform(X_train_transformed)\n"
      ],
      "metadata": {
        "id": "Mn4Yb_s_Hj6F"
      },
      "execution_count": 8,
      "outputs": []
    },
    {
      "cell_type": "markdown",
      "source": [
        "K-Means Clustering\n",
        "Without PCA"
      ],
      "metadata": {
        "id": "mM6yEZavKz28"
      }
    },
    {
      "cell_type": "code",
      "source": [
        "import pandas as pd\n",
        "from sklearn.model_selection import train_test_split\n",
        "from sklearn.compose import ColumnTransformer\n",
        "from sklearn.preprocessing import StandardScaler, OneHotEncoder\n",
        "from sklearn.decomposition import PCA\n",
        "from sklearn.cluster import KMeans, AgglomerativeClustering, DBSCAN\n",
        "from sklearn.metrics import adjusted_rand_score, silhouette_score\n",
        "import matplotlib.pyplot as plt"
      ],
      "metadata": {
        "id": "Px_j8sWiLBky"
      },
      "execution_count": 11,
      "outputs": []
    },
    {
      "cell_type": "code",
      "source": [
        "# K-Means without PCA\n",
        "kmeans = KMeans(n_clusters=3, random_state=42)  # Example with 3 clusters\n",
        "clusters_kmeans = kmeans.fit_predict(X_train_transformed)\n",
        "\n",
        "# Evaluation\n",
        "ari_kmeans = adjusted_rand_score(y, clusters_kmeans)\n",
        "silhouette_kmeans = silhouette_score(X_train_transformed, clusters_kmeans)\n",
        "\n",
        "print(f\"K-Means clustering without PCA: ARI = {ari_kmeans:.4f}, Silhouette = {silhouette_kmeans:.4f}\")\n"
      ],
      "metadata": {
        "colab": {
          "base_uri": "https://localhost:8080/",
          "height": 400
        },
        "id": "Drn2lp_eKvw0",
        "outputId": "9fcce38b-b665-441b-8118-569770b1bb51"
      },
      "execution_count": 13,
      "outputs": [
        {
          "output_type": "stream",
          "name": "stderr",
          "text": [
            "/usr/local/lib/python3.10/dist-packages/sklearn/cluster/_kmeans.py:870: FutureWarning: The default value of `n_init` will change from 10 to 'auto' in 1.4. Set the value of `n_init` explicitly to suppress the warning\n",
            "  warnings.warn(\n"
          ]
        },
        {
          "output_type": "error",
          "ename": "ValueError",
          "evalue": "Found input variables with inconsistent numbers of samples: [69861, 55888]",
          "traceback": [
            "\u001b[0;31m---------------------------------------------------------------------------\u001b[0m",
            "\u001b[0;31mValueError\u001b[0m                                Traceback (most recent call last)",
            "\u001b[0;32m<ipython-input-13-29fb421e5940>\u001b[0m in \u001b[0;36m<cell line: 6>\u001b[0;34m()\u001b[0m\n\u001b[1;32m      4\u001b[0m \u001b[0;34m\u001b[0m\u001b[0m\n\u001b[1;32m      5\u001b[0m \u001b[0;31m# Evaluation\u001b[0m\u001b[0;34m\u001b[0m\u001b[0;34m\u001b[0m\u001b[0m\n\u001b[0;32m----> 6\u001b[0;31m \u001b[0mari_kmeans\u001b[0m \u001b[0;34m=\u001b[0m \u001b[0madjusted_rand_score\u001b[0m\u001b[0;34m(\u001b[0m\u001b[0my\u001b[0m\u001b[0;34m,\u001b[0m \u001b[0mclusters_kmeans\u001b[0m\u001b[0;34m)\u001b[0m\u001b[0;34m\u001b[0m\u001b[0;34m\u001b[0m\u001b[0m\n\u001b[0m\u001b[1;32m      7\u001b[0m \u001b[0msilhouette_kmeans\u001b[0m \u001b[0;34m=\u001b[0m \u001b[0msilhouette_score\u001b[0m\u001b[0;34m(\u001b[0m\u001b[0mX_train_transformed\u001b[0m\u001b[0;34m,\u001b[0m \u001b[0mclusters_kmeans\u001b[0m\u001b[0;34m)\u001b[0m\u001b[0;34m\u001b[0m\u001b[0;34m\u001b[0m\u001b[0m\n\u001b[1;32m      8\u001b[0m \u001b[0;34m\u001b[0m\u001b[0m\n",
            "\u001b[0;32m/usr/local/lib/python3.10/dist-packages/sklearn/metrics/cluster/_supervised.py\u001b[0m in \u001b[0;36madjusted_rand_score\u001b[0;34m(labels_true, labels_pred)\u001b[0m\n\u001b[1;32m    399\u001b[0m       \u001b[0;34m-\u001b[0m\u001b[0;36m0.5\u001b[0m\u001b[0;34m\u001b[0m\u001b[0;34m\u001b[0m\u001b[0m\n\u001b[1;32m    400\u001b[0m     \"\"\"\n\u001b[0;32m--> 401\u001b[0;31m     \u001b[0;34m(\u001b[0m\u001b[0mtn\u001b[0m\u001b[0;34m,\u001b[0m \u001b[0mfp\u001b[0m\u001b[0;34m)\u001b[0m\u001b[0;34m,\u001b[0m \u001b[0;34m(\u001b[0m\u001b[0mfn\u001b[0m\u001b[0;34m,\u001b[0m \u001b[0mtp\u001b[0m\u001b[0;34m)\u001b[0m \u001b[0;34m=\u001b[0m \u001b[0mpair_confusion_matrix\u001b[0m\u001b[0;34m(\u001b[0m\u001b[0mlabels_true\u001b[0m\u001b[0;34m,\u001b[0m \u001b[0mlabels_pred\u001b[0m\u001b[0;34m)\u001b[0m\u001b[0;34m\u001b[0m\u001b[0;34m\u001b[0m\u001b[0m\n\u001b[0m\u001b[1;32m    402\u001b[0m     \u001b[0;31m# convert to Python integer types, to avoid overflow or underflow\u001b[0m\u001b[0;34m\u001b[0m\u001b[0;34m\u001b[0m\u001b[0m\n\u001b[1;32m    403\u001b[0m     \u001b[0mtn\u001b[0m\u001b[0;34m,\u001b[0m \u001b[0mfp\u001b[0m\u001b[0;34m,\u001b[0m \u001b[0mfn\u001b[0m\u001b[0;34m,\u001b[0m \u001b[0mtp\u001b[0m \u001b[0;34m=\u001b[0m \u001b[0mint\u001b[0m\u001b[0;34m(\u001b[0m\u001b[0mtn\u001b[0m\u001b[0;34m)\u001b[0m\u001b[0;34m,\u001b[0m \u001b[0mint\u001b[0m\u001b[0;34m(\u001b[0m\u001b[0mfp\u001b[0m\u001b[0;34m)\u001b[0m\u001b[0;34m,\u001b[0m \u001b[0mint\u001b[0m\u001b[0;34m(\u001b[0m\u001b[0mfn\u001b[0m\u001b[0;34m)\u001b[0m\u001b[0;34m,\u001b[0m \u001b[0mint\u001b[0m\u001b[0;34m(\u001b[0m\u001b[0mtp\u001b[0m\u001b[0;34m)\u001b[0m\u001b[0;34m\u001b[0m\u001b[0;34m\u001b[0m\u001b[0m\n",
            "\u001b[0;32m/usr/local/lib/python3.10/dist-packages/sklearn/metrics/cluster/_supervised.py\u001b[0m in \u001b[0;36mpair_confusion_matrix\u001b[0;34m(labels_true, labels_pred)\u001b[0m\n\u001b[1;32m    219\u001b[0m     \u001b[0mNote\u001b[0m \u001b[0mthat\u001b[0m \u001b[0mthe\u001b[0m \u001b[0mmatrix\u001b[0m \u001b[0;32mis\u001b[0m \u001b[0;32mnot\u001b[0m \u001b[0msymmetric\u001b[0m\u001b[0;34m.\u001b[0m\u001b[0;34m\u001b[0m\u001b[0;34m\u001b[0m\u001b[0m\n\u001b[1;32m    220\u001b[0m     \"\"\"\n\u001b[0;32m--> 221\u001b[0;31m     \u001b[0mlabels_true\u001b[0m\u001b[0;34m,\u001b[0m \u001b[0mlabels_pred\u001b[0m \u001b[0;34m=\u001b[0m \u001b[0mcheck_clusterings\u001b[0m\u001b[0;34m(\u001b[0m\u001b[0mlabels_true\u001b[0m\u001b[0;34m,\u001b[0m \u001b[0mlabels_pred\u001b[0m\u001b[0;34m)\u001b[0m\u001b[0;34m\u001b[0m\u001b[0;34m\u001b[0m\u001b[0m\n\u001b[0m\u001b[1;32m    222\u001b[0m     \u001b[0mn_samples\u001b[0m \u001b[0;34m=\u001b[0m \u001b[0mnp\u001b[0m\u001b[0;34m.\u001b[0m\u001b[0mint64\u001b[0m\u001b[0;34m(\u001b[0m\u001b[0mlabels_true\u001b[0m\u001b[0;34m.\u001b[0m\u001b[0mshape\u001b[0m\u001b[0;34m[\u001b[0m\u001b[0;36m0\u001b[0m\u001b[0;34m]\u001b[0m\u001b[0;34m)\u001b[0m\u001b[0;34m\u001b[0m\u001b[0;34m\u001b[0m\u001b[0m\n\u001b[1;32m    223\u001b[0m \u001b[0;34m\u001b[0m\u001b[0m\n",
            "\u001b[0;32m/usr/local/lib/python3.10/dist-packages/sklearn/metrics/cluster/_supervised.py\u001b[0m in \u001b[0;36mcheck_clusterings\u001b[0;34m(labels_true, labels_pred)\u001b[0m\n\u001b[1;32m     69\u001b[0m     \u001b[0;32mif\u001b[0m \u001b[0mlabels_pred\u001b[0m\u001b[0;34m.\u001b[0m\u001b[0mndim\u001b[0m \u001b[0;34m!=\u001b[0m \u001b[0;36m1\u001b[0m\u001b[0;34m:\u001b[0m\u001b[0;34m\u001b[0m\u001b[0;34m\u001b[0m\u001b[0m\n\u001b[1;32m     70\u001b[0m         \u001b[0;32mraise\u001b[0m \u001b[0mValueError\u001b[0m\u001b[0;34m(\u001b[0m\u001b[0;34m\"labels_pred must be 1D: shape is %r\"\u001b[0m \u001b[0;34m%\u001b[0m \u001b[0;34m(\u001b[0m\u001b[0mlabels_pred\u001b[0m\u001b[0;34m.\u001b[0m\u001b[0mshape\u001b[0m\u001b[0;34m,\u001b[0m\u001b[0;34m)\u001b[0m\u001b[0;34m)\u001b[0m\u001b[0;34m\u001b[0m\u001b[0;34m\u001b[0m\u001b[0m\n\u001b[0;32m---> 71\u001b[0;31m     \u001b[0mcheck_consistent_length\u001b[0m\u001b[0;34m(\u001b[0m\u001b[0mlabels_true\u001b[0m\u001b[0;34m,\u001b[0m \u001b[0mlabels_pred\u001b[0m\u001b[0;34m)\u001b[0m\u001b[0;34m\u001b[0m\u001b[0;34m\u001b[0m\u001b[0m\n\u001b[0m\u001b[1;32m     72\u001b[0m \u001b[0;34m\u001b[0m\u001b[0m\n\u001b[1;32m     73\u001b[0m     \u001b[0;32mreturn\u001b[0m \u001b[0mlabels_true\u001b[0m\u001b[0;34m,\u001b[0m \u001b[0mlabels_pred\u001b[0m\u001b[0;34m\u001b[0m\u001b[0;34m\u001b[0m\u001b[0m\n",
            "\u001b[0;32m/usr/local/lib/python3.10/dist-packages/sklearn/utils/validation.py\u001b[0m in \u001b[0;36mcheck_consistent_length\u001b[0;34m(*arrays)\u001b[0m\n\u001b[1;32m    395\u001b[0m     \u001b[0muniques\u001b[0m \u001b[0;34m=\u001b[0m \u001b[0mnp\u001b[0m\u001b[0;34m.\u001b[0m\u001b[0munique\u001b[0m\u001b[0;34m(\u001b[0m\u001b[0mlengths\u001b[0m\u001b[0;34m)\u001b[0m\u001b[0;34m\u001b[0m\u001b[0;34m\u001b[0m\u001b[0m\n\u001b[1;32m    396\u001b[0m     \u001b[0;32mif\u001b[0m \u001b[0mlen\u001b[0m\u001b[0;34m(\u001b[0m\u001b[0muniques\u001b[0m\u001b[0;34m)\u001b[0m \u001b[0;34m>\u001b[0m \u001b[0;36m1\u001b[0m\u001b[0;34m:\u001b[0m\u001b[0;34m\u001b[0m\u001b[0;34m\u001b[0m\u001b[0m\n\u001b[0;32m--> 397\u001b[0;31m         raise ValueError(\n\u001b[0m\u001b[1;32m    398\u001b[0m             \u001b[0;34m\"Found input variables with inconsistent numbers of samples: %r\"\u001b[0m\u001b[0;34m\u001b[0m\u001b[0;34m\u001b[0m\u001b[0m\n\u001b[1;32m    399\u001b[0m             \u001b[0;34m%\u001b[0m \u001b[0;34m[\u001b[0m\u001b[0mint\u001b[0m\u001b[0;34m(\u001b[0m\u001b[0ml\u001b[0m\u001b[0;34m)\u001b[0m \u001b[0;32mfor\u001b[0m \u001b[0ml\u001b[0m \u001b[0;32min\u001b[0m \u001b[0mlengths\u001b[0m\u001b[0;34m]\u001b[0m\u001b[0;34m\u001b[0m\u001b[0;34m\u001b[0m\u001b[0m\n",
            "\u001b[0;31mValueError\u001b[0m: Found input variables with inconsistent numbers of samples: [69861, 55888]"
          ]
        }
      ]
    },
    {
      "cell_type": "code",
      "source": [],
      "metadata": {
        "id": "x98vEw-ULo98"
      },
      "execution_count": null,
      "outputs": []
    },
    {
      "cell_type": "code",
      "source": [
        "import pandas as pd\n",
        "from sklearn.model_selection import train_test_split\n",
        "from sklearn.compose import ColumnTransformer\n",
        "from sklearn.preprocessing import StandardScaler, OneHotEncoder\n",
        "from sklearn.decomposition import PCA\n",
        "from sklearn.cluster import KMeans, AgglomerativeClustering, DBSCAN\n",
        "from sklearn.metrics import adjusted_rand_score, silhouette_score\n",
        "import matplotlib.pyplot as plt\n",
        "\n",
        "# Load the data\n",
        "url = 'https://raw.githubusercontent.com/HiwaTase/Machine-Learning/main/healthINS_balanced.csv'\n",
        "df = pd.read_csv(url)\n",
        "\n",
        "# Drop columns with missing values\n",
        "df = df.drop([\"marst\",\"WKSWORK2\", \"classwkr\", \"empstat\", \"vetstat\",\"school\",\"cit2\",\"metro\",\"region\"], axis=1)\n",
        "\n",
        "# Top-code the 'inctot' column\n",
        "df['inctot'] = df['inctot'].apply(lambda x: min(max(x, 0), 500000))\n",
        "\n",
        "# Split the data into features and target variable\n",
        "X = df.drop('nohealthins', axis=1)\n",
        "y = df['nohealthins']\n",
        "\n",
        "# Define feature categories\n",
        "categorical_features = ['race2', 'educ_att']\n",
        "numerical_features = ['inctot', 'age', 'uhrswork']\n",
        "\n",
        "# Column transformer setup\n",
        "column_transformer = ColumnTransformer(\n",
        "    transformers=[\n",
        "        (\"num\", StandardScaler(), numerical_features),\n",
        "        (\"cat\", OneHotEncoder(), categorical_features)\n",
        "    ],\n",
        "    remainder='passthrough'\n",
        ")\n",
        "\n",
        "# Apply transformations\n",
        "X_transformed = column_transformer.fit_transform(X)\n"
      ],
      "metadata": {
        "id": "PbZXVVdfLp70"
      },
      "execution_count": 3,
      "outputs": []
    },
    {
      "cell_type": "code",
      "source": [
        "# Fit PCA\n",
        "pca = PCA(n_components=0.95)  # Keep enough components to explain 95% of the variance\n",
        "X_pca = pca.fit_transform(X_transformed)\n"
      ],
      "metadata": {
        "id": "7LVHrgOlLp4a"
      },
      "execution_count": 15,
      "outputs": []
    },
    {
      "cell_type": "code",
      "source": [
        "# K-Means without PCA\n",
        "kmeans = KMeans(n_clusters=3, random_state=42)  # Example with 3 clusters\n",
        "clusters_kmeans = kmeans.fit_predict(X_transformed)\n",
        "\n",
        "# Evaluation\n",
        "ari_kmeans = adjusted_rand_score(y, clusters_kmeans)\n",
        "silhouette_kmeans = silhouette_score(X_transformed, clusters_kmeans)\n",
        "\n",
        "print(f\"K-Means clustering without PCA: ARI = {ari_kmeans:.4f}, Silhouette = {silhouette_kmeans:.4f}\")\n"
      ],
      "metadata": {
        "colab": {
          "base_uri": "https://localhost:8080/"
        },
        "id": "MKWXKA-hLp0z",
        "outputId": "d8208425-2a60-46ef-8005-84cdf39f878f"
      },
      "execution_count": 16,
      "outputs": [
        {
          "output_type": "stream",
          "name": "stderr",
          "text": [
            "/usr/local/lib/python3.10/dist-packages/sklearn/cluster/_kmeans.py:870: FutureWarning: The default value of `n_init` will change from 10 to 'auto' in 1.4. Set the value of `n_init` explicitly to suppress the warning\n",
            "  warnings.warn(\n"
          ]
        },
        {
          "output_type": "stream",
          "name": "stdout",
          "text": [
            "K-Means clustering without PCA: ARI = 0.0362, Silhouette = 0.2065\n"
          ]
        }
      ]
    },
    {
      "cell_type": "code",
      "source": [
        "# K-Means with PCA\n",
        "kmeans_pca = KMeans(n_clusters=3, random_state=42)\n",
        "clusters_kmeans_pca = kmeans_pca.fit_predict(X_pca)\n",
        "\n",
        "# Evaluation\n",
        "ari_kmeans_pca = adjusted_rand_score(y, clusters_kmeans_pca)\n",
        "silhouette_kmeans_pca = silhouette_score(X_pca, clusters_kmeans_pca)\n",
        "\n",
        "print(f\"K-Means clustering with PCA: ARI = {ari_kmeans_pca:.4f}, Silhouette = {silhouette_kmeans_pca:.4f}\")\n"
      ],
      "metadata": {
        "colab": {
          "base_uri": "https://localhost:8080/"
        },
        "id": "EcPb1ylrLpw8",
        "outputId": "922a8f70-bb3e-4177-ff63-e147be20bf25"
      },
      "execution_count": 17,
      "outputs": [
        {
          "output_type": "stream",
          "name": "stderr",
          "text": [
            "/usr/local/lib/python3.10/dist-packages/sklearn/cluster/_kmeans.py:870: FutureWarning: The default value of `n_init` will change from 10 to 'auto' in 1.4. Set the value of `n_init` explicitly to suppress the warning\n",
            "  warnings.warn(\n"
          ]
        },
        {
          "output_type": "stream",
          "name": "stdout",
          "text": [
            "K-Means clustering with PCA: ARI = 0.0360, Silhouette = 0.2216\n"
          ]
        }
      ]
    },
    {
      "cell_type": "code",
      "source": [
        "# Agglomerative Clustering without PCA\n",
        "agglo = AgglomerativeClustering(n_clusters=3)\n",
        "clusters_agglo = agglo.fit_predict(X_transformed)\n",
        "\n",
        "# Evaluation\n",
        "ari_agglo = adjusted_rand_score(y, clusters_agglo)\n",
        "silhouette_agglo = silhouette_score(X_transformed, clusters_agglo)\n",
        "\n",
        "print(f\"Agglomerative clustering without PCA: ARI = {ari_agglo:.4f}, Silhouette = {silhouette_agglo:.4f}\")\n"
      ],
      "metadata": {
        "id": "ToTrNMV4Lpgd"
      },
      "execution_count": null,
      "outputs": []
    },
    {
      "cell_type": "code",
      "source": [
        "# Agglomerative Clustering with PCA\n",
        "agglo_pca = AgglomerativeClustering(n_clusters=3)\n",
        "clusters_agglo_pca = agglo_pca.fit_predict(X_pca)\n",
        "\n",
        "# Evaluation\n",
        "ari_agglo_pca = adjusted_rand_score(y, clusters_agglo_pca)\n",
        "silhouette_agglo_pca = silhouette_score(X_pca, clusters_agglo_pca)\n",
        "\n",
        "print(f\"Agglomerative clustering with PCA: ARI = {ari_agglo_pca:.4f}, Silhouette = {silhouette_agglo_pca:.4f}\")\n"
      ],
      "metadata": {
        "id": "cYxQ54nGMRlj"
      },
      "execution_count": null,
      "outputs": []
    },
    {
      "cell_type": "code",
      "source": [
        "# DBSCAN without PCA\n",
        "dbscan = DBSCAN(eps=0.5, min_samples=5)\n",
        "clusters_dbscan = dbscan.fit_predict(X_transformed)\n",
        "\n",
        "# Evaluation\n",
        "# For DBSCAN, some points may be labeled as noise (-1), so we filter these out for evaluation\n",
        "mask = clusters_dbscan != -1\n",
        "ari_dbscan = adjusted_rand_score(y[mask], clusters_dbscan[mask])\n",
        "silhouette_dbscan = silhouette_score(X_transformed[mask], clusters_dbscan[mask])\n",
        "\n",
        "print(f\"DBSCAN clustering without PCA: ARI = {ari_dbscan:.4f}, Silhouette = {silhouette_dbscan:.4f}\")\n"
      ],
      "metadata": {
        "id": "b2wm9b4XMZlA"
      },
      "execution_count": null,
      "outputs": []
    },
    {
      "cell_type": "code",
      "source": [
        "# DBSCAN with PCA\n",
        "dbscan_pca = DBSCAN(eps=0.5, min_samples=5)\n",
        "clusters_dbscan_pca = dbscan_pca.fit_predict(X_pca)\n",
        "\n",
        "# Evaluation\n",
        "mask_pca = clusters_dbscan_pca != -1\n",
        "ari_dbscan_pca = adjusted_rand_score(y[mask_pca], clusters_dbscan_pca[mask_pca])\n",
        "silhouette_dbscan_pca = silhouette_score(X_pca[mask_pca], clusters_dbscan_pca[mask_pca])\n",
        "\n",
        "print(f\"DBSCAN clustering with PCA: ARI = {ari_dbscan_pca:.4f}, Silhouette = {silhouette_dbscan_pca:.4f}\")\n"
      ],
      "metadata": {
        "id": "hdOZXjn_Mawj"
      },
      "execution_count": null,
      "outputs": []
    },
    {
      "cell_type": "code",
      "source": [
        "def plot_clusters(X, clusters, title):\n",
        "    plt.figure(figsize=(10, 6))\n",
        "    plt.scatter(X[:, 0], X[:, 1], c=clusters, cmap='viridis', marker='o', edgecolor='k')\n",
        "    plt.title(title)\n",
        "    plt.show()\n",
        "\n",
        "# Example visualization for K-Means with PCA\n",
        "plot_clusters(X_pca, clusters_kmeans_pca, \"K-Means Clustering with PCA\")\n",
        "\n",
        "# Example visualization for Agglomerative Clustering with PCA\n",
        "plot_clusters(X_pca, clusters_agglo_pca, \"Agglomerative Clustering with PCA\")\n",
        "\n",
        "# Example visualization for DBSCAN with PCA\n",
        "plot_clusters(X_pca, clusters_dbscan_pca, \"DBSCAN Clustering with PCA\")\n"
      ],
      "metadata": {
        "id": "p1eQe92yMgGQ"
      },
      "execution_count": null,
      "outputs": []
    }
  ]
}