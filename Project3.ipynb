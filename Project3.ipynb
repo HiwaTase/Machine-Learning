{
  "nbformat": 4,
  "nbformat_minor": 0,
  "metadata": {
    "colab": {
      "provenance": [],
      "authorship_tag": "ABX9TyP8nloGRYf+pw631IHjPsnW",
      "include_colab_link": true
    },
    "kernelspec": {
      "name": "python3",
      "display_name": "Python 3"
    },
    "language_info": {
      "name": "python"
    }
  },
  "cells": [
    {
      "cell_type": "markdown",
      "metadata": {
        "id": "view-in-github",
        "colab_type": "text"
      },
      "source": [
        "<a href=\"https://colab.research.google.com/github/HiwaTase/Machine-Learning/blob/main/Project3.ipynb\" target=\"_parent\"><img src=\"https://colab.research.google.com/assets/colab-badge.svg\" alt=\"Open In Colab\"/></a>"
      ]
    },
    {
      "cell_type": "markdown",
      "source": [
        "**Step 1**"
      ],
      "metadata": {
        "id": "t71em3m9xLuo"
      }
    },
    {
      "cell_type": "code",
      "source": [
        "import pandas as pd\n",
        "from sklearn.model_selection import train_test_split, cross_val_score, GridSearchCV\n",
        "from sklearn.compose import ColumnTransformer\n",
        "from sklearn.preprocessing import StandardScaler, OneHotEncoder\n",
        "from sklearn.neighbors import KNeighborsClassifier\n",
        "from sklearn.ensemble import RandomForestClassifier\n",
        "from sklearn.metrics import precision_score, recall_score, f1_score, make_scorer, accuracy_score\n",
        "from sklearn.decomposition import PCA\n",
        "from sklearn.pipeline import Pipeline\n",
        "import matplotlib.pyplot as plt\n",
        "import seaborn as sns"
      ],
      "metadata": {
        "id": "nCD5AMm3yxI8"
      },
      "execution_count": 4,
      "outputs": []
    },
    {
      "cell_type": "code",
      "execution_count": 5,
      "metadata": {
        "id": "WDfB0emcw_o7",
        "collapsed": true,
        "outputId": "5d3f5551-c2e3-4c4f-f07c-b68157730d0c",
        "colab": {
          "base_uri": "https://localhost:8080/"
        }
      },
      "outputs": [
        {
          "output_type": "stream",
          "name": "stdout",
          "text": [
            "Missing values in each column:\n",
            "nohealthins        0\n",
            "marst              0\n",
            "race2              0\n",
            "WKSWORK2       24857\n",
            "classwkr       16731\n",
            "empstat          944\n",
            "inctot             0\n",
            "uhrswork           0\n",
            "age                0\n",
            "school             0\n",
            "cit2               0\n",
            "educ_att           0\n",
            "female             0\n",
            "metro              0\n",
            "region             0\n",
            "vetstat         1978\n",
            "dtype: int64\n",
            "Missing values after cleaning:\n",
            "nohealthins    0\n",
            "race2          0\n",
            "inctot         0\n",
            "uhrswork       0\n",
            "age            0\n",
            "educ_att       0\n",
            "female         0\n",
            "dtype: int64\n",
            "Training set target class distribution:\n",
            "nohealthins\n",
            "1    29704\n",
            "0    26184\n",
            "Name: count, dtype: int64\n",
            "\n",
            "Testing set target class distribution:\n",
            "nohealthins\n",
            "1    7427\n",
            "0    6546\n",
            "Name: count, dtype: int64\n"
          ]
        }
      ],
      "source": [
        "import pandas as pd\n",
        "from sklearn.model_selection import train_test_split\n",
        "\n",
        "# Load the data\n",
        "url = 'https://raw.githubusercontent.com/HiwaTase/Machine-Learning/main/healthINS_balanced.csv'\n",
        "df = pd.read_csv(url)\n",
        "\n",
        "# Check for missing\n",
        "print(\"Missing values in each column:\")\n",
        "print(df.isnull().sum())\n",
        "\n",
        "# Drop columns with missing values\n",
        "df = df.drop([\"marst\",\"WKSWORK2\", \"classwkr\", \"empstat\", \"vetstat\",\"school\",\"cit2\",\"metro\",\"region\"], axis=1)\n",
        "\n",
        "# Top-code the 'inctot' column\n",
        "df['inctot'] = df['inctot'].apply(lambda x: min(max(x, 0), 500000))\n",
        "\n",
        "# Verify the remaining missing values\n",
        "print(\"Missing values after cleaning:\")\n",
        "print(df.isnull().sum())\n",
        "\n",
        "# Split the data into features and target variable\n",
        "X = df.drop('nohealthins', axis=1)\n",
        "y = df['nohealthins']\n",
        "\n",
        "# Split the data into training and testing sets\n",
        "X_train, X_test, y_train, y_test = train_test_split(X, y, test_size=0.2, stratify=y, random_state=42)\n",
        "\n",
        "# Verify the split is balanced\n",
        "print(\"Training set target class distribution:\")\n",
        "print(y_train.value_counts())\n",
        "print(\"\\nTesting set target class distribution:\")\n",
        "print(y_test.value_counts())"
      ]
    },
    {
      "cell_type": "code",
      "source": [
        "# Assume df is loaded and cleaned as per your previous project description\n",
        "from sklearn.compose import ColumnTransformer\n",
        "from sklearn.preprocessing import StandardScaler, OneHotEncoder\n",
        "from sklearn.model_selection import train_test_split\n",
        "\n",
        "# Define feature categories\n",
        "categorical_features = ['race2', 'educ_att']\n",
        "numerical_features = ['inctot', 'age', 'uhrswork']\n",
        "\n",
        "# Column transformer setup\n",
        "column_transformer = ColumnTransformer(\n",
        "    transformers=[\n",
        "        (\"num\", StandardScaler(), numerical_features),\n",
        "        (\"cat\", OneHotEncoder(), categorical_features)\n",
        "    ],\n",
        "    remainder='passthrough'\n",
        ")\n",
        "\n",
        "# Split the data into training and testing sets\n",
        "X = df.drop('nohealthins', axis=1)\n",
        "y = df['nohealthins']\n",
        "X_train, X_test, y_train, y_test = train_test_split(X, y, test_size=0.2, stratify=y, random_state=42)\n",
        "\n",
        "# Apply transformations\n",
        "X_train_transformed = column_transformer.fit_transform(X_train)\n",
        "X_test_transformed = column_transformer.transform(X_test)\n"
      ],
      "metadata": {
        "id": "_anY990ZxWgg"
      },
      "execution_count": 6,
      "outputs": []
    },
    {
      "cell_type": "markdown",
      "source": [
        "**Step 2**"
      ],
      "metadata": {
        "id": "zMcklhpSxs18"
      }
    },
    {
      "cell_type": "code",
      "source": [
        "# Define parameter grids for grid search\n",
        "knn_param_grid = {\n",
        "    'n_neighbors': [3, 5, 7, 9],\n",
        "    'weights': ['uniform', 'distance'],\n",
        "    'metric': ['euclidean', 'manhattan']\n",
        "}\n",
        "\n",
        "rf_param_grid = {\n",
        "    'n_estimators': [50, 100, 200],\n",
        "    'max_features': [ 'sqrt', 'log2'],\n",
        "    'max_depth': [10, 20, 30, None]\n",
        "}\n",
        "\n",
        "# Perform grid search for Random Forest\n",
        "rf_grid_search = GridSearchCV(RandomForestClassifier(random_state=42), rf_param_grid, cv=5, scoring='f1')\n",
        "rf_grid_search.fit(X_train_transformed, y_train)\n",
        "\n",
        "# Get the best Random Forest model\n",
        "best_rf = rf_grid_search.best_estimator_\n",
        "\n",
        "# Initialize PCA and the best classifier\n",
        "pca = PCA(n_components=0.95)\n",
        "classifier = RandomForestClassifier(**rf_grid_search.best_params_)\n",
        "\n",
        "# Create a pipeline\n",
        "pipeline = Pipeline(steps=[('pca', pca), ('classifier', classifier)])\n",
        "\n",
        "# Fit the model\n",
        "pipeline.fit(X_train_transformed, y_train)\n",
        "\n",
        "# Evaluate the model\n",
        "print(\"Explained Variance Ratio:\", pca.explained_variance_ratio_.sum())\n",
        "\n",
        "# Predict and calculate accuracy\n",
        "y_pred = pipeline.predict(X_test_transformed)\n",
        "print(\"Accuracy:\", accuracy_score(y_test, y_pred))"
      ],
      "metadata": {
        "id": "rMa3_c3kxsIk"
      },
      "execution_count": null,
      "outputs": []
    }
  ]
}